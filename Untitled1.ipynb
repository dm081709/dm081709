{
  "nbformat": 4,
  "nbformat_minor": 0,
  "metadata": {
    "colab": {
      "provenance": [],
      "authorship_tag": "ABX9TyNyQBcyxn/RaNnOnc4RkzGO",
      "include_colab_link": true
    },
    "kernelspec": {
      "name": "python3",
      "display_name": "Python 3"
    },
    "language_info": {
      "name": "python"
    }
  },
  "cells": [
    {
      "cell_type": "markdown",
      "metadata": {
        "id": "view-in-github",
        "colab_type": "text"
      },
      "source": [
        "<a href=\"https://colab.research.google.com/github/dm081709/dm081709/blob/main/Untitled1.ipynb\" target=\"_parent\"><img src=\"https://colab.research.google.com/assets/colab-badge.svg\" alt=\"Open In Colab\"/></a>"
      ]
    },
    {
      "cell_type": "code",
      "execution_count": null,
      "metadata": {
        "colab": {
          "base_uri": "https://localhost:8080/"
        },
        "id": "urM4PYpc3YoF",
        "outputId": "1a9d9caa-66da-46b3-a126-c65fccfcc652"
      },
      "outputs": [
        {
          "name": "stdout",
          "output_type": "stream",
          "text": [
            "n: 1002023\n",
            "m: 998244353\n"
          ]
        }
      ],
      "source": [
        "n = int(input('n: '))\n",
        "m = int(input('m: '))\n",
        "a = [2,1]\n",
        "x = 0\n",
        "s = 0\n",
        "d = 0\n",
        "e = 1\n",
        "while x <= n-3:\n",
        "     a.append(a[d]+a[e])\n",
        "     x += 1\n",
        "     if d < e:\n",
        "          d += 2\n",
        "     else:\n",
        "          e += 2\n",
        "for i in a:\n",
        "      if i % 2 == 0:\n",
        "           s += i**2\n",
        "      else:\n",
        "           continue\n",
        "print(s%m)"
      ]
    },
    {
      "cell_type": "code",
      "source": [
        "print(10**6+2023)"
      ],
      "metadata": {
        "colab": {
          "base_uri": "https://localhost:8080/"
        },
        "id": "JkzQgRvn5OZg",
        "outputId": "b22fb83c-3202-4168-82f1-98c86c5683fe"
      },
      "execution_count": 22,
      "outputs": [
        {
          "output_type": "stream",
          "name": "stdout",
          "text": [
            "1002023\n"
          ]
        }
      ]
    }
  ]
}